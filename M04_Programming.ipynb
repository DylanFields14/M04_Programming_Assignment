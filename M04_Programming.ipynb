{
 "cells": [
  {
   "cell_type": "code",
   "execution_count": 1,
   "id": "047d9935",
   "metadata": {},
   "outputs": [
    {
     "ename": "ModuleNotFoundError",
     "evalue": "No module named 'zoo'",
     "output_type": "error",
     "traceback": [
      "\u001b[1;31m---------------------------------------------------------------------------\u001b[0m",
      "\u001b[1;31mModuleNotFoundError\u001b[0m                       Traceback (most recent call last)",
      "Cell \u001b[1;32mIn[1], line 3\u001b[0m\n\u001b[0;32m      1\u001b[0m \u001b[38;5;28;01mdef\u001b[39;00m \u001b[38;5;21mhours\u001b[39m():\n\u001b[0;32m      2\u001b[0m     \u001b[38;5;28mprint\u001b[39m(\u001b[38;5;124m'\u001b[39m\u001b[38;5;124mOpn 9-5 daily\u001b[39m\u001b[38;5;124m'\u001b[39m)\n\u001b[1;32m----> 3\u001b[0m \u001b[38;5;28;01mimport\u001b[39;00m \u001b[38;5;21;01mzoo\u001b[39;00m\n\u001b[0;32m      4\u001b[0m zoo\u001b[38;5;241m.\u001b[39mhours()\n",
      "\u001b[1;31mModuleNotFoundError\u001b[0m: No module named 'zoo'"
     ]
    }
   ],
   "source": [
    "def hours():\n",
    "    print('Opn 9-5 daily')\n",
    "import zoo\n",
    "zoo.hours()"
   ]
  },
  {
   "cell_type": "code",
   "execution_count": 2,
   "id": "395f30a7",
   "metadata": {},
   "outputs": [
    {
     "ename": "ModuleNotFoundError",
     "evalue": "No module named 'zoo'",
     "output_type": "error",
     "traceback": [
      "\u001b[1;31m---------------------------------------------------------------------------\u001b[0m",
      "\u001b[1;31mModuleNotFoundError\u001b[0m                       Traceback (most recent call last)",
      "Cell \u001b[1;32mIn[2], line 1\u001b[0m\n\u001b[1;32m----> 1\u001b[0m \u001b[38;5;28;01mimport\u001b[39;00m \u001b[38;5;21;01mzoo\u001b[39;00m \u001b[38;5;28;01mas\u001b[39;00m \u001b[38;5;21;01mmenagerie\u001b[39;00m\n\u001b[0;32m      2\u001b[0m menagerie\u001b[38;5;241m.\u001b[39mhours()\n",
      "\u001b[1;31mModuleNotFoundError\u001b[0m: No module named 'zoo'"
     ]
    }
   ],
   "source": [
    "import zoo as menagerie\n",
    "menagerie.hours()"
   ]
  },
  {
   "cell_type": "code",
   "execution_count": 3,
   "id": "84d96613",
   "metadata": {},
   "outputs": [
    {
     "name": "stdout",
     "output_type": "stream",
     "text": [
      "[('Alan Garner',), ('China Miéville',), ('Lisa Lutz',), ('Terry Pratchett',), ('Terry Pratchett',)]\n"
     ]
    }
   ],
   "source": [
    "import sqlalchemy as sa\n",
    "import sqlite3\n",
    "\n",
    "database = sqlite3.connect('books.db')\n",
    "cursor = database.cursor()\n",
    "\n",
    "table = '''DROP TABLE IF EXISTS books'''\n",
    "cursor.execute(table)\n",
    "\n",
    "table = '''CREATE TABLE books(title VARCHAR(255), author VARCHAR(255), year INT)'''\n",
    "cursor.execute(table)\n",
    "\n",
    "cursor.execute('''INSERT INTO books VALUES('The Weirdstone of Brisingamen','Alan Garner',1960)''')\n",
    "cursor.execute('''INSERT INTO books VALUES('Perdido Street Station','China Miéville',2000)''')\n",
    "cursor.execute('''INSERT INTO books VALUES('Thud!','Terry Pratchett',2005)''')\n",
    "cursor.execute('''INSERT INTO books VALUES('The Spellman Files','Lisa Lutz',2007)''')\n",
    "cursor.execute('''INSERT INTO books VALUES('Small Gods','Terry Pratchett',1992)''')\n",
    "\n",
    "database.commit()\n",
    "database.close()\n",
    "\n",
    "engine = sa.create_engine('sqlite:///books.db')\n",
    "connection = engine.connect()\n",
    "metadata = sa.MetaData()\n",
    "table_to_query = sa.Table('books', metadata, autoload_with=engine)\n",
    "\n",
    "query = sa.select(table_to_query.c.author).order_by(table_to_query.c.author)\n",
    "resultA = connection.execute(query)\n",
    "resultB = resultA.fetchall()\n",
    "\n",
    "print(resultB)"
   ]
  },
  {
   "cell_type": "code",
   "execution_count": null,
   "id": "08ca05d9",
   "metadata": {},
   "outputs": [],
   "source": []
  }
 ],
 "metadata": {
  "kernelspec": {
   "display_name": "Python 3 (ipykernel)",
   "language": "python",
   "name": "python3"
  },
  "language_info": {
   "codemirror_mode": {
    "name": "ipython",
    "version": 3
   },
   "file_extension": ".py",
   "mimetype": "text/x-python",
   "name": "python",
   "nbconvert_exporter": "python",
   "pygments_lexer": "ipython3",
   "version": "3.11.4"
  }
 },
 "nbformat": 4,
 "nbformat_minor": 5
}
